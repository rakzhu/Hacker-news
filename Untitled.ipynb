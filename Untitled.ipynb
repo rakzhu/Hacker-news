{
 "cells": [
  {
   "cell_type": "code",
   "execution_count": 3,
   "id": "3ef2e392-0d38-4a16-948e-82187b454013",
   "metadata": {},
   "outputs": [
    {
     "name": "stdout",
     "output_type": "stream",
     "text": [
      "[['id', 'title', 'url', 'num_points', 'num_comments', 'author', 'created_at'], ['12579008', 'You have two days to comment if you want stem cells to be classified as your own', 'http://www.regulations.gov/document?D=FDA-2015-D-3719-0018', '1', '0', 'altstar', '9/26/2016 3:26'], ['12579005', 'SQLAR  the SQLite Archiver', 'https://www.sqlite.org/sqlar/doc/trunk/README.md', '1', '0', 'blacksqr', '9/26/2016 3:24'], ['12578997', 'What if we just printed a flatscreen television on the side of our boxes?', 'https://medium.com/vanmoof/our-secrets-out-f21c1f03fdc8#.ietxmez43', '1', '0', 'pavel_lishin', '9/26/2016 3:19'], ['12578989', 'algorithmic music', 'http://cacm.acm.org/magazines/2011/7/109891-algorithmic-composition/fulltext', '1', '0', 'poindontcare', '9/26/2016 3:16']]\n"
     ]
    }
   ],
   "source": [
    "import csv\n",
    "\n",
    "# Load data from CSV\n",
    "filename = 'HN_posts.csv'  # Replace this with the path to your dataset\n",
    "with open(filename, newline='', encoding='utf-8') as f:\n",
    "    reader = csv.reader(f)\n",
    "    data = list(reader)  # Convert the reader object into a list\n",
    "\n",
    "# Check the first few rows to understand the structure\n",
    "print(data[:5])  # Display the first 5 rows of the dataset\n"
   ]
  },
  {
   "cell_type": "code",
   "execution_count": 4,
   "id": "14acb96e-ad81-480a-907f-d5d614499806",
   "metadata": {},
   "outputs": [
    {
     "name": "stdout",
     "output_type": "stream",
     "text": [
      "[['12579008', 'You have two days to comment if you want stem cells to be classified as your own', 'http://www.regulations.gov/document?D=FDA-2015-D-3719-0018', '1', '0', 'altstar', '9/26/2016 3:26'], ['12579005', 'SQLAR  the SQLite Archiver', 'https://www.sqlite.org/sqlar/doc/trunk/README.md', '1', '0', 'blacksqr', '9/26/2016 3:24'], ['12578997', 'What if we just printed a flatscreen television on the side of our boxes?', 'https://medium.com/vanmoof/our-secrets-out-f21c1f03fdc8#.ietxmez43', '1', '0', 'pavel_lishin', '9/26/2016 3:19'], ['12578989', 'algorithmic music', 'http://cacm.acm.org/magazines/2011/7/109891-algorithmic-composition/fulltext', '1', '0', 'poindontcare', '9/26/2016 3:16'], ['12578979', 'How the Data Vault Enables the Next-Gen Data Warehouse and Data Lake', 'https://www.talend.com/blog/2016/05/12/talend-and-Â\\x93the-data-vaultÂ\\x94', '1', '0', 'markgainor1', '9/26/2016 3:14']]\n"
     ]
    }
   ],
   "source": [
    "# The first row contains headers, so we'll remove it\n",
    "headers = data[0]  # First row is the header\n",
    "data = data[1:]    # Remove header from the data\n",
    "\n",
    "# Check the first few rows after removing the header\n",
    "print(data[:5])  # Display the first 5 rows of the data\n"
   ]
  },
  {
   "cell_type": "code",
   "execution_count": 5,
   "id": "e73a5f7a-8ac4-4917-9a82-933793050a2d",
   "metadata": {},
   "outputs": [
    {
     "name": "stdout",
     "output_type": "stream",
     "text": [
      "Ask HN Posts:\n",
      "[['12578908', 'Ask HN: What TLD do you use for local development?', '', '4', '7', 'Sevrene', '9/26/2016 2:53'], ['12578522', 'Ask HN: How do you pass on your work when you die?', '', '6', '3', 'PascLeRasc', '9/26/2016 1:17'], ['12577908', 'Ask HN: How a DNS problem can be limited to a geographic region?', '', '1', '0', 'kuon', '9/25/2016 22:57'], ['12577870', 'Ask HN: Why join a fund when you can be an angel?', '', '1', '3', 'anthony_james', '9/25/2016 22:48'], ['12577647', 'Ask HN: Someone uses stock trading as passive income?', '', '5', '2', '00taffe', '9/25/2016 21:50']]\n",
      "\n",
      "Show HN Posts:\n",
      "[['12578335', 'Show HN: Finding puns computationally', 'http://puns.samueltaylor.org/', '2', '0', 'saamm', '9/26/2016 0:36'], ['12578182', 'Show HN: A simple library for complicated animations', 'https://christinecha.github.io/choreographer-js/', '1', '0', 'christinecha', '9/26/2016 0:01'], ['12578098', 'Show HN: WebGL visualization of DNA sequences', 'http://grondilu.github.io/dna.html', '1', '0', 'grondilu', '9/25/2016 23:44'], ['12577991', 'Show HN: Pomodoro-centric, heirarchical project management with ES6 modules', 'https://github.com/jakebian/zeal', '2', '0', 'dbranes', '9/25/2016 23:17'], ['12577142', 'Show HN: Jumble  Essays on the go #PaulInYourPocket', 'https://itunes.apple.com/us/app/jumble-find-startup-essay/id1150939197?ls=1&mt=8', '1', '1', 'ryderj', '9/25/2016 20:06']]\n"
     ]
    }
   ],
   "source": [
    "# Extract 'Ask HN' and 'Show HN' posts\n",
    "ask_hn_posts = []\n",
    "show_hn_posts = []\n",
    "\n",
    "for row in data:\n",
    "    title = row[1]  # The title is in the second column (index 1)\n",
    "    \n",
    "    # Check if the title starts with 'Ask HN' or 'Show HN'\n",
    "    if title.lower().startswith('ask hn'):\n",
    "        ask_hn_posts.append(row)\n",
    "    elif title.lower().startswith('show hn'):\n",
    "        show_hn_posts.append(row)\n",
    "\n",
    "# Display the first few posts of each\n",
    "print(\"Ask HN Posts:\")\n",
    "print(ask_hn_posts[:5])  # Display first 5 'Ask HN' posts\n",
    "\n",
    "print(\"\\nShow HN Posts:\")\n",
    "print(show_hn_posts[:5])  # Display first 5 'Show HN' posts\n"
   ]
  },
  {
   "cell_type": "code",
   "execution_count": 6,
   "id": "a570db45-8415-4110-885a-5e22a16df6d9",
   "metadata": {},
   "outputs": [
    {
     "name": "stdout",
     "output_type": "stream",
     "text": [
      "Average comments on 'Ask HN' posts: 10.39\n",
      "Average comments on 'Show HN' posts: 4.89\n"
     ]
    }
   ],
   "source": [
    "# Initialize variables to store the total number of comments\n",
    "total_ask_comments = 0\n",
    "total_show_comments = 0\n",
    "\n",
    "# Loop through Ask HN posts and sum up the number of comments\n",
    "for post in ask_hn_posts:\n",
    "    total_ask_comments += int(post[4])  # Convert comment count to integer and add\n",
    "\n",
    "# Loop through Show HN posts and sum up the number of comments\n",
    "for post in show_hn_posts:\n",
    "    total_show_comments += int(post[4])  # Convert comment count to integer and add\n",
    "\n",
    "# Calculate the average number of comments\n",
    "avg_ask_comments = total_ask_comments / len(ask_hn_posts)\n",
    "avg_show_comments = total_show_comments / len(show_hn_posts)\n",
    "\n",
    "# Print results\n",
    "print(f\"Average comments on 'Ask HN' posts: {avg_ask_comments:.2f}\")\n",
    "print(f\"Average comments on 'Show HN' posts: {avg_show_comments:.2f}\")\n"
   ]
  },
  {
   "cell_type": "code",
   "execution_count": 7,
   "id": "60a1b25f-e993-4a78-9390-c265373137f1",
   "metadata": {},
   "outputs": [
    {
     "name": "stdout",
     "output_type": "stream",
     "text": [
      "Top 5 Hours for 'Ask HN' Posts (by average comments):\n",
      "15:00 - 28.68 average comments\n",
      "13:00 - 16.32 average comments\n",
      "12:00 - 12.38 average comments\n",
      "02:00 - 11.14 average comments\n",
      "10:00 - 10.68 average comments\n"
     ]
    }
   ],
   "source": [
    "from datetime import datetime as dt\n",
    "\n",
    "# Dictionary to store post counts and total comments by hour\n",
    "counts_by_hour = {}  # {hour: number of posts}\n",
    "comments_by_hour = {}  # {hour: total comments}\n",
    "\n",
    "# Loop through Ask HN posts\n",
    "for post in ask_hn_posts:\n",
    "    created_at = post[6]  # Get the datetime string\n",
    "    hour = dt.strptime(created_at, \"%m/%d/%Y %H:%M\").strftime(\"%H\")  # Extract hour\n",
    "    \n",
    "    # Update counts_by_hour\n",
    "    if hour not in counts_by_hour:\n",
    "        counts_by_hour[hour] = 0\n",
    "        comments_by_hour[hour] = 0\n",
    "    \n",
    "    counts_by_hour[hour] += 1\n",
    "    comments_by_hour[hour] += int(post[4])  # Convert comments to integer and add\n",
    "\n",
    "# Compute average comments per post by hour\n",
    "avg_comments_by_hour = []\n",
    "\n",
    "for hour in counts_by_hour:\n",
    "    avg_comments_by_hour.append([hour, comments_by_hour[hour] / counts_by_hour[hour]])\n",
    "\n",
    "# Sort the results in descending order based on the average number of comments\n",
    "sorted_avg_comments = sorted(avg_comments_by_hour, key=lambda x: x[1], reverse=True)\n",
    "\n",
    "# Print top 5 hours with the highest average comments\n",
    "print(\"Top 5 Hours for 'Ask HN' Posts (by average comments):\")\n",
    "for hour, avg_comments in sorted_avg_comments[:5]:\n",
    "    print(f\"{hour}:00 - {avg_comments:.2f} average comments\")\n"
   ]
  },
  {
   "cell_type": "code",
   "execution_count": 8,
   "id": "2f6f8dd8-10a0-4856-9791-da1a103b723b",
   "metadata": {},
   "outputs": [
    {
     "name": "stdout",
     "output_type": "stream",
     "text": [
      "\n",
      "Top 5 Hours for 'Ask HN' Posts (by average comments):\n",
      "15:00  - 28.68 average comments\n",
      "13:00  - 16.32 average comments\n",
      "12:00  - 12.38 average comments\n",
      "02:00  - 11.14 average comments\n",
      "10:00  - 10.68 average comments\n"
     ]
    }
   ],
   "source": [
    "print(\"\\nTop 5 Hours for 'Ask HN' Posts (by average comments):\")\n",
    "for hour, avg_comments in sorted_avg_comments[:5]:\n",
    "    formatted_hour = f\"{hour}:00\"  # Format the hour for readability\n",
    "    print(f\"{formatted_hour:<6} - {avg_comments:.2f} average comments\")\n"
   ]
  },
  {
   "cell_type": "code",
   "execution_count": null,
   "id": "ec9a0be6-9a2b-4e0c-a06a-5d071cdcb42c",
   "metadata": {},
   "outputs": [],
   "source": []
  }
 ],
 "metadata": {
  "kernelspec": {
   "display_name": "Python 3 (ipykernel)",
   "language": "python",
   "name": "python3"
  },
  "language_info": {
   "codemirror_mode": {
    "name": "ipython",
    "version": 3
   },
   "file_extension": ".py",
   "mimetype": "text/x-python",
   "name": "python",
   "nbconvert_exporter": "python",
   "pygments_lexer": "ipython3",
   "version": "3.12.7"
  }
 },
 "nbformat": 4,
 "nbformat_minor": 5
}
